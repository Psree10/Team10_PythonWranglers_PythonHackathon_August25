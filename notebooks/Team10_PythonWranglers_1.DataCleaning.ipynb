{
 "cells": [
  {
   "cell_type": "markdown",
   "id": "b2c96e1e-975a-404e-9400-b4bf37cfec36",
   "metadata": {},
   "source": [
    "# <center> 1. Data Cleaning and Preprocessing"
   ]
  },
  {
   "cell_type": "code",
   "execution_count": 73,
   "id": "39c4cfd8-33bf-4b28-ad6b-76733d7f4c85",
   "metadata": {},
   "outputs": [],
   "source": [
    "# importing all necessary libraries\n",
    "\n",
    "import pandas as pd\n",
    "import glob\n",
    "import os\n",
    "import numpy as np\n",
    "import matplotlib.pyplot as plt\n",
    "import seaborn as sns"
   ]
  },
  {
   "cell_type": "code",
   "execution_count": null,
   "id": "5045b591-0e73-49d3-8f31-17f81e81b2f6",
   "metadata": {},
   "outputs": [],
   "source": []
  },
  {
   "cell_type": "markdown",
   "id": "cc3f07b4-8558-4c8b-b554-e34d102c5477",
   "metadata": {},
   "source": [
    "####  1. Merging the CGM data for all 25 patients into one data frame, adding patient_id column as an identifier and then joining with the demographic and sleep info file on the patient_id column. Having all the data in one data frame will make it easy to create visualizations.\n"
   ]
  },
  {
   "cell_type": "code",
   "execution_count": 75,
   "id": "abca2c46-0dc4-42d4-8cc6-a7235aebb283",
   "metadata": {},
   "outputs": [
    {
     "data": {
      "text/html": [
       "<div>\n",
       "<style scoped>\n",
       "    .dataframe tbody tr th:only-of-type {\n",
       "        vertical-align: middle;\n",
       "    }\n",
       "\n",
       "    .dataframe tbody tr th {\n",
       "        vertical-align: top;\n",
       "    }\n",
       "\n",
       "    .dataframe thead th {\n",
       "        text-align: right;\n",
       "    }\n",
       "</style>\n",
       "<table border=\"1\" class=\"dataframe\">\n",
       "  <thead>\n",
       "    <tr style=\"text-align: right;\">\n",
       "      <th></th>\n",
       "      <th>time</th>\n",
       "      <th>glucose</th>\n",
       "      <th>calories</th>\n",
       "      <th>heart_rate</th>\n",
       "      <th>steps</th>\n",
       "      <th>basal_rate</th>\n",
       "      <th>bolus_volume_delivered</th>\n",
       "      <th>carb_input</th>\n",
       "      <th>patient_id</th>\n",
       "      <th>Age</th>\n",
       "      <th>Gender</th>\n",
       "      <th>Race</th>\n",
       "      <th>Average Sleep Duration (hrs)</th>\n",
       "      <th>Sleep Quality (1-10)</th>\n",
       "      <th>% with Sleep Disturbances</th>\n",
       "    </tr>\n",
       "  </thead>\n",
       "  <tbody>\n",
       "    <tr>\n",
       "      <th>0</th>\n",
       "      <td>2018-06-13T18:40:00</td>\n",
       "      <td>332.0</td>\n",
       "      <td>6.3595</td>\n",
       "      <td>82.322835</td>\n",
       "      <td>34.0</td>\n",
       "      <td>0.091667</td>\n",
       "      <td>0.0</td>\n",
       "      <td>0.0</td>\n",
       "      <td>HUPA0001P</td>\n",
       "      <td>34</td>\n",
       "      <td>Male</td>\n",
       "      <td>Other</td>\n",
       "      <td>6.3</td>\n",
       "      <td>4.5</td>\n",
       "      <td>80</td>\n",
       "    </tr>\n",
       "    <tr>\n",
       "      <th>1</th>\n",
       "      <td>2018-06-13T18:45:00</td>\n",
       "      <td>326.0</td>\n",
       "      <td>7.7280</td>\n",
       "      <td>83.740157</td>\n",
       "      <td>0.0</td>\n",
       "      <td>0.091667</td>\n",
       "      <td>0.0</td>\n",
       "      <td>0.0</td>\n",
       "      <td>HUPA0001P</td>\n",
       "      <td>34</td>\n",
       "      <td>Male</td>\n",
       "      <td>Other</td>\n",
       "      <td>6.3</td>\n",
       "      <td>4.5</td>\n",
       "      <td>80</td>\n",
       "    </tr>\n",
       "    <tr>\n",
       "      <th>2</th>\n",
       "      <td>2018-06-13T18:50:00</td>\n",
       "      <td>330.0</td>\n",
       "      <td>4.7495</td>\n",
       "      <td>80.525180</td>\n",
       "      <td>0.0</td>\n",
       "      <td>0.091667</td>\n",
       "      <td>0.0</td>\n",
       "      <td>0.0</td>\n",
       "      <td>HUPA0001P</td>\n",
       "      <td>34</td>\n",
       "      <td>Male</td>\n",
       "      <td>Other</td>\n",
       "      <td>6.3</td>\n",
       "      <td>4.5</td>\n",
       "      <td>80</td>\n",
       "    </tr>\n",
       "    <tr>\n",
       "      <th>3</th>\n",
       "      <td>2018-06-13T18:55:00</td>\n",
       "      <td>324.0</td>\n",
       "      <td>6.3595</td>\n",
       "      <td>89.129032</td>\n",
       "      <td>20.0</td>\n",
       "      <td>0.091667</td>\n",
       "      <td>0.0</td>\n",
       "      <td>0.0</td>\n",
       "      <td>HUPA0001P</td>\n",
       "      <td>34</td>\n",
       "      <td>Male</td>\n",
       "      <td>Other</td>\n",
       "      <td>6.3</td>\n",
       "      <td>4.5</td>\n",
       "      <td>80</td>\n",
       "    </tr>\n",
       "    <tr>\n",
       "      <th>4</th>\n",
       "      <td>2018-06-13T19:00:00</td>\n",
       "      <td>306.0</td>\n",
       "      <td>5.1520</td>\n",
       "      <td>92.495652</td>\n",
       "      <td>0.0</td>\n",
       "      <td>0.075000</td>\n",
       "      <td>0.0</td>\n",
       "      <td>0.0</td>\n",
       "      <td>HUPA0001P</td>\n",
       "      <td>34</td>\n",
       "      <td>Male</td>\n",
       "      <td>Other</td>\n",
       "      <td>6.3</td>\n",
       "      <td>4.5</td>\n",
       "      <td>80</td>\n",
       "    </tr>\n",
       "  </tbody>\n",
       "</table>\n",
       "</div>"
      ],
      "text/plain": [
       "                  time  glucose  calories  heart_rate  steps  basal_rate  \\\n",
       "0  2018-06-13T18:40:00    332.0    6.3595   82.322835   34.0    0.091667   \n",
       "1  2018-06-13T18:45:00    326.0    7.7280   83.740157    0.0    0.091667   \n",
       "2  2018-06-13T18:50:00    330.0    4.7495   80.525180    0.0    0.091667   \n",
       "3  2018-06-13T18:55:00    324.0    6.3595   89.129032   20.0    0.091667   \n",
       "4  2018-06-13T19:00:00    306.0    5.1520   92.495652    0.0    0.075000   \n",
       "\n",
       "   bolus_volume_delivered  carb_input patient_id  Age Gender   Race  \\\n",
       "0                     0.0         0.0  HUPA0001P   34   Male  Other   \n",
       "1                     0.0         0.0  HUPA0001P   34   Male  Other   \n",
       "2                     0.0         0.0  HUPA0001P   34   Male  Other   \n",
       "3                     0.0         0.0  HUPA0001P   34   Male  Other   \n",
       "4                     0.0         0.0  HUPA0001P   34   Male  Other   \n",
       "\n",
       "   Average Sleep Duration (hrs)  Sleep Quality (1-10)  \\\n",
       "0                           6.3                   4.5   \n",
       "1                           6.3                   4.5   \n",
       "2                           6.3                   4.5   \n",
       "3                           6.3                   4.5   \n",
       "4                           6.3                   4.5   \n",
       "\n",
       "   % with Sleep Disturbances  \n",
       "0                         80  \n",
       "1                         80  \n",
       "2                         80  \n",
       "3                         80  \n",
       "4                         80  "
      ]
     },
     "execution_count": 75,
     "metadata": {},
     "output_type": "execute_result"
    }
   ],
   "source": [
    "# Step 1: Load all CGM files\n",
    "path = \"../data/raw/HUPA*.csv\"\n",
    "files = glob.glob(path)\n",
    "\n",
    "df_list = []\n",
    "for f in files:\n",
    "    temp = pd.read_csv(f, delimiter=\";\", header=0)  # delimiter in the files in a semicolon\n",
    "    temp['patient_id'] = os.path.basename(f).replace(\".csv\", \"\")\n",
    "    df_list.append(temp)\n",
    "\n",
    "dfCGMData = pd.concat(df_list, ignore_index=True)\n",
    "\n",
    "# Step 2: Load patient metadata\n",
    "dfDemographicsData = pd.read_csv(\"../data/raw/T1DM_patient_sleep_demographics_with_race.csv\")\n",
    "\n",
    "dfDemographicsData.rename(columns={\"Patient_ID\": \"patient_id\"}, inplace=True)\n",
    "\n",
    "# Step 3: Merge on patient_id\n",
    "dfT1DData = dfCGMData.merge(dfDemographicsData, on=\"patient_id\", how=\"left\")\n",
    "\n",
    "# Step 4: Check result\n",
    "dfT1DData.head()\n"
   ]
  },
  {
   "cell_type": "markdown",
   "id": "5868b046-5ed3-4b2f-a70a-04c98b2ee53b",
   "metadata": {},
   "source": [
    "#### 2.Checking that each row in CGM Data files found a correspoding patient demography and sleep data row, thus ensuring there are no patients for whom CGM data exists but demography and sleep data doesn't exist.\n"
   ]
  },
  {
   "cell_type": "code",
   "execution_count": 77,
   "id": "921cf68e-6ef6-41ae-a639-d25476ace6b6",
   "metadata": {},
   "outputs": [
    {
     "name": "stdout",
     "output_type": "stream",
     "text": [
      "Number of CGM rows without matching demographics: 0\n"
     ]
    }
   ],
   "source": [
    "\n",
    "missing_demographics = dfT1DData['Age'].isna().sum()\n",
    "print(f\"Number of CGM rows without matching demographics: {missing_demographics}\")"
   ]
  },
  {
   "cell_type": "markdown",
   "id": "8bde3475-b94b-4ffa-bbec-6a9c5c2c2959",
   "metadata": {},
   "source": [
    "#### 3. Checking if any of the columns have null values."
   ]
  },
  {
   "cell_type": "code",
   "execution_count": 79,
   "id": "b99dc062-bf3d-4b12-8348-d2b217a4a4e4",
   "metadata": {},
   "outputs": [
    {
     "name": "stdout",
     "output_type": "stream",
     "text": [
      "25 unique patients in CGM data\n",
      "25 unique patients in metadata\n",
      "['HUPA0001P' 'HUPA0002P' 'HUPA0003P' 'HUPA0004P' 'HUPA0005P' 'HUPA0006P'\n",
      " 'HUPA0007P' 'HUPA0009P' 'HUPA0010P' 'HUPA0011P' 'HUPA0014P' 'HUPA0015P'\n",
      " 'HUPA0016P' 'HUPA0017P' 'HUPA0018P' 'HUPA0019P' 'HUPA0020P' 'HUPA0021P'\n",
      " 'HUPA0022P' 'HUPA0023P' 'HUPA0024P' 'HUPA0025P' 'HUPA0026P' 'HUPA0027P'\n",
      " 'HUPA0028P']\n"
     ]
    },
    {
     "data": {
      "text/plain": [
       "time                            0\n",
       "glucose                         0\n",
       "calories                        0\n",
       "heart_rate                      0\n",
       "steps                           0\n",
       "basal_rate                      0\n",
       "bolus_volume_delivered          0\n",
       "carb_input                      0\n",
       "patient_id                      0\n",
       "Age                             0\n",
       "Gender                          0\n",
       "Race                            0\n",
       "Average Sleep Duration (hrs)    0\n",
       "Sleep Quality (1-10)            0\n",
       "% with Sleep Disturbances       0\n",
       "dtype: int64"
      ]
     },
     "execution_count": 79,
     "metadata": {},
     "output_type": "execute_result"
    }
   ],
   "source": [
    "print(dfT1DData['patient_id'].nunique(), \"unique patients in CGM data\")\n",
    "print(dfDemographicsData['patient_id'].nunique(), \"unique patients in metadata\")\n",
    "\n",
    "print(dfT1DData['patient_id'].unique())\n",
    "\n",
    "dfT1DData.isna().sum()"
   ]
  },
  {
   "cell_type": "markdown",
   "id": "6b67c4a9-6d8d-4610-bd2b-1661ad341ccd",
   "metadata": {},
   "source": [
    "#### 4. Rounding all the values in float type columns to 2 decimal places."
   ]
  },
  {
   "cell_type": "code",
   "execution_count": 81,
   "id": "c2686e66-4c51-4d2a-b594-410479d3030c",
   "metadata": {},
   "outputs": [
    {
     "name": "stdout",
     "output_type": "stream",
     "text": [
      "           glucose  calories  heart_rate  steps  basal_rate  \\\n",
      "0       332.000000   6.35950   82.322835   34.0    0.091667   \n",
      "1       326.000000   7.72800   83.740157    0.0    0.091667   \n",
      "2       330.000000   4.74950   80.525180    0.0    0.091667   \n",
      "3       324.000000   6.35950   89.129032   20.0    0.091667   \n",
      "4       306.000000   5.15200   92.495652    0.0    0.075000   \n",
      "...            ...       ...         ...    ...         ...   \n",
      "309387  109.333333  10.79280  104.171171    0.0    0.000000   \n",
      "309388  114.000000   9.80346  103.442623    0.0    0.000000   \n",
      "309389  118.666667   5.66622   95.542857    0.0    0.000000   \n",
      "309390  123.333333   5.57628   91.381356    0.0    0.000000   \n",
      "309391  128.000000   5.57628   99.257812    0.0    0.000000   \n",
      "\n",
      "        bolus_volume_delivered  carb_input  Average Sleep Duration (hrs)  \\\n",
      "0                          0.0         0.0                           6.3   \n",
      "1                          0.0         0.0                           6.3   \n",
      "2                          0.0         0.0                           6.3   \n",
      "3                          0.0         0.0                           6.3   \n",
      "4                          0.0         0.0                           6.3   \n",
      "...                        ...         ...                           ...   \n",
      "309387                     0.0         0.0                           5.1   \n",
      "309388                     0.0         0.0                           5.1   \n",
      "309389                     0.0         0.0                           5.1   \n",
      "309390                     0.0         0.0                           5.1   \n",
      "309391                     0.0         0.0                           5.1   \n",
      "\n",
      "        Sleep Quality (1-10)  \n",
      "0                        4.5  \n",
      "1                        4.5  \n",
      "2                        4.5  \n",
      "3                        4.5  \n",
      "4                        4.5  \n",
      "...                      ...  \n",
      "309387                   7.9  \n",
      "309388                   7.9  \n",
      "309389                   7.9  \n",
      "309390                   7.9  \n",
      "309391                   7.9  \n",
      "\n",
      "[309392 rows x 9 columns]\n"
     ]
    },
    {
     "data": {
      "text/html": [
       "<div>\n",
       "<style scoped>\n",
       "    .dataframe tbody tr th:only-of-type {\n",
       "        vertical-align: middle;\n",
       "    }\n",
       "\n",
       "    .dataframe tbody tr th {\n",
       "        vertical-align: top;\n",
       "    }\n",
       "\n",
       "    .dataframe thead th {\n",
       "        text-align: right;\n",
       "    }\n",
       "</style>\n",
       "<table border=\"1\" class=\"dataframe\">\n",
       "  <thead>\n",
       "    <tr style=\"text-align: right;\">\n",
       "      <th></th>\n",
       "      <th>time</th>\n",
       "      <th>glucose</th>\n",
       "      <th>calories</th>\n",
       "      <th>heart_rate</th>\n",
       "      <th>steps</th>\n",
       "      <th>basal_rate</th>\n",
       "      <th>bolus_volume_delivered</th>\n",
       "      <th>carb_input</th>\n",
       "      <th>patient_id</th>\n",
       "      <th>Age</th>\n",
       "      <th>Gender</th>\n",
       "      <th>Race</th>\n",
       "      <th>Average Sleep Duration (hrs)</th>\n",
       "      <th>Sleep Quality (1-10)</th>\n",
       "      <th>% with Sleep Disturbances</th>\n",
       "    </tr>\n",
       "  </thead>\n",
       "  <tbody>\n",
       "    <tr>\n",
       "      <th>0</th>\n",
       "      <td>2018-06-13T18:40:00</td>\n",
       "      <td>332.0</td>\n",
       "      <td>6.36</td>\n",
       "      <td>82.32</td>\n",
       "      <td>34.0</td>\n",
       "      <td>0.09</td>\n",
       "      <td>0.0</td>\n",
       "      <td>0.0</td>\n",
       "      <td>HUPA0001P</td>\n",
       "      <td>34</td>\n",
       "      <td>Male</td>\n",
       "      <td>Other</td>\n",
       "      <td>6.3</td>\n",
       "      <td>4.5</td>\n",
       "      <td>80</td>\n",
       "    </tr>\n",
       "    <tr>\n",
       "      <th>1</th>\n",
       "      <td>2018-06-13T18:45:00</td>\n",
       "      <td>326.0</td>\n",
       "      <td>7.73</td>\n",
       "      <td>83.74</td>\n",
       "      <td>0.0</td>\n",
       "      <td>0.09</td>\n",
       "      <td>0.0</td>\n",
       "      <td>0.0</td>\n",
       "      <td>HUPA0001P</td>\n",
       "      <td>34</td>\n",
       "      <td>Male</td>\n",
       "      <td>Other</td>\n",
       "      <td>6.3</td>\n",
       "      <td>4.5</td>\n",
       "      <td>80</td>\n",
       "    </tr>\n",
       "    <tr>\n",
       "      <th>2</th>\n",
       "      <td>2018-06-13T18:50:00</td>\n",
       "      <td>330.0</td>\n",
       "      <td>4.75</td>\n",
       "      <td>80.53</td>\n",
       "      <td>0.0</td>\n",
       "      <td>0.09</td>\n",
       "      <td>0.0</td>\n",
       "      <td>0.0</td>\n",
       "      <td>HUPA0001P</td>\n",
       "      <td>34</td>\n",
       "      <td>Male</td>\n",
       "      <td>Other</td>\n",
       "      <td>6.3</td>\n",
       "      <td>4.5</td>\n",
       "      <td>80</td>\n",
       "    </tr>\n",
       "    <tr>\n",
       "      <th>3</th>\n",
       "      <td>2018-06-13T18:55:00</td>\n",
       "      <td>324.0</td>\n",
       "      <td>6.36</td>\n",
       "      <td>89.13</td>\n",
       "      <td>20.0</td>\n",
       "      <td>0.09</td>\n",
       "      <td>0.0</td>\n",
       "      <td>0.0</td>\n",
       "      <td>HUPA0001P</td>\n",
       "      <td>34</td>\n",
       "      <td>Male</td>\n",
       "      <td>Other</td>\n",
       "      <td>6.3</td>\n",
       "      <td>4.5</td>\n",
       "      <td>80</td>\n",
       "    </tr>\n",
       "    <tr>\n",
       "      <th>4</th>\n",
       "      <td>2018-06-13T19:00:00</td>\n",
       "      <td>306.0</td>\n",
       "      <td>5.15</td>\n",
       "      <td>92.50</td>\n",
       "      <td>0.0</td>\n",
       "      <td>0.08</td>\n",
       "      <td>0.0</td>\n",
       "      <td>0.0</td>\n",
       "      <td>HUPA0001P</td>\n",
       "      <td>34</td>\n",
       "      <td>Male</td>\n",
       "      <td>Other</td>\n",
       "      <td>6.3</td>\n",
       "      <td>4.5</td>\n",
       "      <td>80</td>\n",
       "    </tr>\n",
       "  </tbody>\n",
       "</table>\n",
       "</div>"
      ],
      "text/plain": [
       "                  time  glucose  calories  heart_rate  steps  basal_rate  \\\n",
       "0  2018-06-13T18:40:00    332.0      6.36       82.32   34.0        0.09   \n",
       "1  2018-06-13T18:45:00    326.0      7.73       83.74    0.0        0.09   \n",
       "2  2018-06-13T18:50:00    330.0      4.75       80.53    0.0        0.09   \n",
       "3  2018-06-13T18:55:00    324.0      6.36       89.13   20.0        0.09   \n",
       "4  2018-06-13T19:00:00    306.0      5.15       92.50    0.0        0.08   \n",
       "\n",
       "   bolus_volume_delivered  carb_input patient_id  Age Gender   Race  \\\n",
       "0                     0.0         0.0  HUPA0001P   34   Male  Other   \n",
       "1                     0.0         0.0  HUPA0001P   34   Male  Other   \n",
       "2                     0.0         0.0  HUPA0001P   34   Male  Other   \n",
       "3                     0.0         0.0  HUPA0001P   34   Male  Other   \n",
       "4                     0.0         0.0  HUPA0001P   34   Male  Other   \n",
       "\n",
       "   Average Sleep Duration (hrs)  Sleep Quality (1-10)  \\\n",
       "0                           6.3                   4.5   \n",
       "1                           6.3                   4.5   \n",
       "2                           6.3                   4.5   \n",
       "3                           6.3                   4.5   \n",
       "4                           6.3                   4.5   \n",
       "\n",
       "   % with Sleep Disturbances  \n",
       "0                         80  \n",
       "1                         80  \n",
       "2                         80  \n",
       "3                         80  \n",
       "4                         80  "
      ]
     },
     "execution_count": 81,
     "metadata": {},
     "output_type": "execute_result"
    }
   ],
   "source": [
    "float_cols = dfT1DData.select_dtypes(include=['float', 'float64']).columns\n",
    "print(dfT1DData[float_cols])\n",
    "\n",
    "dfT1DData[float_cols] = dfT1DData[float_cols].round(2)\n",
    "\n",
    "dfT1DData.head()"
   ]
  },
  {
   "cell_type": "markdown",
   "id": "29c37bfd-a4b7-4e48-af60-f20b11eba313",
   "metadata": {},
   "source": [
    "#### 5. Summarizing the makeup of columns to spot outliers or incorrect entries."
   ]
  },
  {
   "cell_type": "code",
   "execution_count": 129,
   "id": "9afa06ef-7179-40a6-9834-acc484a17551",
   "metadata": {},
   "outputs": [
    {
     "name": "stdout",
     "output_type": "stream",
     "text": [
      "Index(['glucose', 'calories', 'heart_rate', 'steps', 'basal_rate',\n",
      "       'bolus_volume_delivered', 'carb_input', 'Age',\n",
      "       'Average Sleep Duration (hrs)', 'Sleep Quality (1-10)',\n",
      "       '% with Sleep Disturbances', 'day_number'],\n",
      "      dtype='object')\n",
      "             glucose       calories     heart_rate          steps  \\\n",
      "count  309392.000000  309392.000000  309392.000000  309392.000000   \n",
      "mean      141.425051       8.813100      76.990004      30.825005   \n",
      "std        57.085587       6.930581      15.546697      84.981109   \n",
      "min        40.000000       0.000000      32.410000       0.000000   \n",
      "25%        99.670000       5.850000      64.930000       0.000000   \n",
      "50%       132.000000       6.280000      75.420000       0.000000   \n",
      "75%       173.000000       9.190000      85.610000      11.000000   \n",
      "max       444.000000     106.350000     195.620000     842.000000   \n",
      "\n",
      "          basal_rate  bolus_volume_delivered     carb_input            Age  \\\n",
      "count  309392.000000           309392.000000  309392.000000  309392.000000   \n",
      "mean        0.042001                0.066077       0.052718      53.332727   \n",
      "std         0.036557                0.755047       1.505433      12.421322   \n",
      "min         0.000000                0.000000       0.000000      20.000000   \n",
      "25%         0.000000                0.000000       0.000000      46.000000   \n",
      "50%         0.060000                0.000000       0.000000      60.000000   \n",
      "75%         0.070000                0.000000       0.000000      60.000000   \n",
      "max         0.250000               19.800000     130.000000      74.000000   \n",
      "\n",
      "       Average Sleep Duration (hrs)  Sleep Quality (1-10)  \\\n",
      "count                 309392.000000         309392.000000   \n",
      "mean                       5.665791              5.916159   \n",
      "std                        0.450037              0.976449   \n",
      "min                        5.000000              4.100000   \n",
      "25%                        5.500000              5.500000   \n",
      "50%                        5.500000              5.900000   \n",
      "75%                        5.900000              5.900000   \n",
      "max                        7.200000              7.900000   \n",
      "\n",
      "       % with Sleep Disturbances     day_number  \n",
      "count              309392.000000  309392.000000  \n",
      "mean                   54.376972     169.114134  \n",
      "std                    12.299519     177.887477  \n",
      "min                    30.000000       1.000000  \n",
      "25%                    50.000000      12.000000  \n",
      "50%                    60.000000      90.000000  \n",
      "75%                    60.000000     307.000000  \n",
      "max                    80.000000     575.000000  \n",
      "<class 'pandas.core.frame.DataFrame'>\n",
      "RangeIndex: 309392 entries, 0 to 309391\n",
      "Data columns (total 12 columns):\n",
      " #   Column                        Non-Null Count   Dtype  \n",
      "---  ------                        --------------   -----  \n",
      " 0   glucose                       309392 non-null  float64\n",
      " 1   calories                      309392 non-null  float64\n",
      " 2   heart_rate                    309392 non-null  float64\n",
      " 3   steps                         309392 non-null  float64\n",
      " 4   basal_rate                    309392 non-null  float64\n",
      " 5   bolus_volume_delivered        309392 non-null  float64\n",
      " 6   carb_input                    309392 non-null  float64\n",
      " 7   Age                           309392 non-null  int64  \n",
      " 8   Average Sleep Duration (hrs)  309392 non-null  float64\n",
      " 9   Sleep Quality (1-10)          309392 non-null  float64\n",
      " 10  % with Sleep Disturbances     309392 non-null  int64  \n",
      " 11  day_number                    309392 non-null  int64  \n",
      "dtypes: float64(9), int64(3)\n",
      "memory usage: 28.3 MB\n",
      "None\n"
     ]
    }
   ],
   "source": [
    "num_cols = dfT1DData.select_dtypes(include=['float64','int64']).columns\n",
    "print(num_cols)\n",
    "print(dfT1DData[num_cols].describe())\n",
    "print(dfT1DData[num_cols].info())"
   ]
  },
  {
   "cell_type": "markdown",
   "id": "70e0d333-0211-4102-a150-0cc8a3ec970a",
   "metadata": {},
   "source": [
    "#### 6. The minimum value in bolus_volume_delivered column is -3. Checking the column to find all negative values, since bolus volume of insulin delivered cannot be negative (insulin cannot be removed from the body)."
   ]
  },
  {
   "cell_type": "code",
   "execution_count": 109,
   "id": "b4dfe42e-a255-4657-be11-eca337314883",
   "metadata": {},
   "outputs": [
    {
     "name": "stdout",
     "output_type": "stream",
     "text": [
      "Total negative bolus entries: 4\n",
      "Patients with negative bolus values: 1\n",
      "\n",
      "Negative bolus entries per patient:\n",
      "patient_id\n",
      "HUPA0017P    4\n",
      "Name: bolus_volume_delivered, dtype: int64\n"
     ]
    }
   ],
   "source": [
    "# Step 1: Check how many negative bolus entries exist\n",
    "neg_bolus = dfT1DData[dfT1DData[\"bolus_volume_delivered\"] < 0]\n",
    "print(f\"Total negative bolus entries: {len(neg_bolus)}\")\n",
    "\n",
    "# Step 2: Check how many patients are affected\n",
    "patients_with_neg = neg_bolus[\"patient_id\"].nunique()\n",
    "print(f\"Patients with negative bolus values: {patients_with_neg}\")\n",
    "\n",
    "# Step 3: Count negative bolus entries per patient\n",
    "neg_per_patient = neg_bolus.groupby(\"patient_id\")[\"bolus_volume_delivered\"].count().sort_values(ascending=False)\n",
    "print(\"\\nNegative bolus entries per patient:\")\n",
    "print(neg_per_patient)\n"
   ]
  },
  {
   "cell_type": "markdown",
   "id": "9d94b693-5f90-4e98-8645-70380fab1415",
   "metadata": {},
   "source": [
    "### 🩺 Data Cleaning Note – Negative Bolus Values\n",
    "\n",
    "In the **`bolus_volume_delivered`** column, a few records contained **negative values**.  \n",
    "Based on our research, clinically, negative insulin delivery does not make sense — pumps deliver insulin in **positive units only**.  \n",
    "Assuming the possible causes could be:  \n",
    "- Device logging errors,  \n",
    "- Interrupted or cancelled bolus deliveries,  \n",
    "- Accidental removal of the pump/patch at the time of bolus delivery,  \n",
    "- Data artifacts such as carry-over from previous pump actions.  \n",
    "\n",
    "Since the exact mechanism could not be confirmed and negative insulin delivery is not physiologically meaningful,  \n",
    "we replaced these negative values with **0**, treating them as *“no bolus delivered”* at that timestamp.  \n",
    "\n",
    "This preserves data integrity while avoiding misleading calculations of insulin usage."
   ]
  },
  {
   "cell_type": "markdown",
   "id": "a5633ff6-3ba7-42fb-a66e-c22c54709fe3",
   "metadata": {},
   "source": [
    "#### 7. Since there are only 4 negative values and all of them belong to one patient (HUPA0017P), we can assume they are data entry errors. We will set these values to 0."
   ]
  },
  {
   "cell_type": "code",
   "execution_count": 115,
   "id": "fddd3ca3-84f7-43b1-8214-2b78c6115380",
   "metadata": {},
   "outputs": [
    {
     "name": "stdout",
     "output_type": "stream",
     "text": [
      "Any negatives left? False\n"
     ]
    }
   ],
   "source": [
    "dfT1DData[\"bolus_volume_delivered\"] = dfT1DData[\"bolus_volume_delivered\"].clip(lower=0)\n",
    "print(\"Any negatives left?\", (dfT1DData[\"bolus_volume_delivered\"] < 0).any())"
   ]
  },
  {
   "cell_type": "markdown",
   "id": "e567bc7c-0414-4aee-a50c-51a384f84495",
   "metadata": {},
   "source": [
    "#### 8. Time column currently contains a T in the values before the time element. We need to convert this column into a datetime data type."
   ]
  },
  {
   "cell_type": "code",
   "execution_count": 97,
   "id": "21e45ad0-8220-421b-adfb-48872fb53149",
   "metadata": {},
   "outputs": [
    {
     "data": {
      "text/plain": [
       "count                  309392\n",
       "unique                 228802\n",
       "top       2019-07-11T06:50:00\n",
       "freq                        4\n",
       "Name: time, dtype: object"
      ]
     },
     "execution_count": 97,
     "metadata": {},
     "output_type": "execute_result"
    }
   ],
   "source": [
    "dfT1DData['time'].describe()"
   ]
  },
  {
   "cell_type": "code",
   "execution_count": 99,
   "id": "7a829fb6-9dc2-4eb3-9c26-c369c862392c",
   "metadata": {},
   "outputs": [
    {
     "name": "stdout",
     "output_type": "stream",
     "text": [
      "datetime64[ns]\n",
      "0   2018-06-13 18:40:00\n",
      "1   2018-06-13 18:45:00\n",
      "2   2018-06-13 18:50:00\n",
      "3   2018-06-13 18:55:00\n",
      "4   2018-06-13 19:00:00\n",
      "Name: time, dtype: datetime64[ns]\n"
     ]
    }
   ],
   "source": [
    "dfT1DData[\"time\"] = pd.to_datetime(dfT1DData[\"time\"], errors=\"coerce\")\n",
    "\n",
    "# Check result\n",
    "print(dfT1DData[\"time\"].dtype)\n",
    "print(dfT1DData[\"time\"].head())"
   ]
  },
  {
   "cell_type": "markdown",
   "id": "d02fbc9c-5634-4683-abbc-6dc6a0604d5b",
   "metadata": {},
   "source": [
    "#### 9. Creating a day_label column to capture the day number of the 14 day study. This column will be useful while creating visualizations."
   ]
  },
  {
   "cell_type": "code",
   "execution_count": 120,
   "id": "9f73eb24-ab2b-48e1-8dbe-438bbfbeffee",
   "metadata": {},
   "outputs": [],
   "source": [
    "dfT1DData[\"date\"] = dfT1DData[\"time\"].dt.date\n",
    "\n",
    "# For each patient, get the unique sorted dates\n",
    "dfT1DData[\"day_number\"] = (\n",
    "    dfT1DData.groupby(\"patient_id\")[\"date\"]\n",
    "    .transform(lambda x: (pd.factorize(x.sort_values().unique())[0] + 1)[pd.Series(x).rank(method=\"dense\").astype(int) - 1])\n",
    ")\n",
    "\n",
    "# Create labels like \"Day 1\", \"Day 2\", etc.\n",
    "dfT1DData[\"day_label\"] = \"Day \" + dfT1DData[\"day_number\"].astype(str)"
   ]
  },
  {
   "cell_type": "code",
   "execution_count": 124,
   "id": "120d602d-1e9e-4d9f-aefb-66ed73e03bdc",
   "metadata": {},
   "outputs": [
    {
     "name": "stdout",
     "output_type": "stream",
     "text": [
      "                  time        date day_label\n",
      "0  2018-06-13 18:40:00  2018-06-13     Day 1\n",
      "1  2018-06-13 18:45:00  2018-06-13     Day 1\n",
      "2  2018-06-13 18:50:00  2018-06-13     Day 1\n",
      "3  2018-06-13 18:55:00  2018-06-13     Day 1\n",
      "4  2018-06-13 19:00:00  2018-06-13     Day 1\n",
      "5  2018-06-13 19:05:00  2018-06-13     Day 1\n",
      "6  2018-06-13 19:10:00  2018-06-13     Day 1\n",
      "7  2018-06-13 19:15:00  2018-06-13     Day 1\n",
      "8  2018-06-13 19:20:00  2018-06-13     Day 1\n",
      "9  2018-06-13 19:25:00  2018-06-13     Day 1\n",
      "10 2018-06-13 19:30:00  2018-06-13     Day 1\n",
      "11 2018-06-13 19:35:00  2018-06-13     Day 1\n",
      "12 2018-06-13 19:40:00  2018-06-13     Day 1\n",
      "13 2018-06-13 19:45:00  2018-06-13     Day 1\n",
      "14 2018-06-13 19:50:00  2018-06-13     Day 1\n",
      "15 2018-06-13 19:55:00  2018-06-13     Day 1\n",
      "16 2018-06-13 20:00:00  2018-06-13     Day 1\n",
      "17 2018-06-13 20:05:00  2018-06-13     Day 1\n",
      "18 2018-06-13 20:10:00  2018-06-13     Day 1\n",
      "19 2018-06-13 20:15:00  2018-06-13     Day 1\n",
      "20 2018-06-13 20:20:00  2018-06-13     Day 1\n",
      "21 2018-06-13 20:25:00  2018-06-13     Day 1\n",
      "22 2018-06-13 20:30:00  2018-06-13     Day 1\n",
      "23 2018-06-13 20:35:00  2018-06-13     Day 1\n",
      "24 2018-06-13 20:40:00  2018-06-13     Day 1\n",
      "25 2018-06-13 20:45:00  2018-06-13     Day 1\n",
      "26 2018-06-13 20:50:00  2018-06-13     Day 1\n",
      "27 2018-06-13 20:55:00  2018-06-13     Day 1\n",
      "28 2018-06-13 21:00:00  2018-06-13     Day 1\n",
      "29 2018-06-13 21:05:00  2018-06-13     Day 1\n"
     ]
    }
   ],
   "source": [
    "# Checking results\n",
    "print(dfT1DData[dfT1DData[\"patient_id\"] == \"HUPA0001P\"][[\"time\", \"date\", \"day_label\"]].head(30))"
   ]
  },
  {
   "cell_type": "markdown",
   "id": "2a5d734f-53f1-4f63-94a7-5117117400db",
   "metadata": {},
   "source": [
    "#### 10. Renaming the 'time' column to 'date_time' and creating two new columns- one to hold the date values only and another to hold the time values only."
   ]
  },
  {
   "cell_type": "code",
   "execution_count": 127,
   "id": "108366fc-ebcb-4d70-aca0-238820b9f4da",
   "metadata": {},
   "outputs": [
    {
     "name": "stdout",
     "output_type": "stream",
     "text": [
      "            date_time        date      time\n",
      "0 2018-06-13 18:40:00  2018-06-13  18:40:00\n",
      "1 2018-06-13 18:45:00  2018-06-13  18:45:00\n",
      "2 2018-06-13 18:50:00  2018-06-13  18:50:00\n",
      "3 2018-06-13 18:55:00  2018-06-13  18:55:00\n",
      "4 2018-06-13 19:00:00  2018-06-13  19:00:00\n"
     ]
    }
   ],
   "source": [
    "dfT1DData.rename(columns={\"time\": \"date_time\"}, inplace=True)\n",
    "\n",
    "# Create separate 'date' and 'time' columns\n",
    "dfT1DData[\"date\"] = dfT1DData[\"date_time\"].dt.date\n",
    "dfT1DData[\"time\"] = dfT1DData[\"date_time\"].dt.time\n",
    "\n",
    "# Check the result\n",
    "print(dfT1DData[[\"date_time\", \"date\", \"time\"]].head())"
   ]
  },
  {
   "cell_type": "code",
   "execution_count": null,
   "id": "84fb6ff0-d3be-49dd-a04d-594bd0fb2797",
   "metadata": {},
   "outputs": [],
   "source": []
  }
 ],
 "metadata": {
  "kernelspec": {
   "display_name": "Python [conda env:base] *",
   "language": "python",
   "name": "conda-base-py"
  },
  "language_info": {
   "codemirror_mode": {
    "name": "ipython",
    "version": 3
   },
   "file_extension": ".py",
   "mimetype": "text/x-python",
   "name": "python",
   "nbconvert_exporter": "python",
   "pygments_lexer": "ipython3",
   "version": "3.12.7"
  }
 },
 "nbformat": 4,
 "nbformat_minor": 5
}
