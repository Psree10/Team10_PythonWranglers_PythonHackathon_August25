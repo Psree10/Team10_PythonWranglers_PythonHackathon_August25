{
 "cells": [
  {
   "cell_type": "markdown",
   "id": "8163cd8e-3b4e-48de-8aae-296d8066cff9",
   "metadata": {},
   "source": [
    "# <center> 1. Data Cleaning and Preprocessing"
   ]
  },
  {
   "cell_type": "code",
   "execution_count": 3,
   "id": "688f0ed3-6075-4e4e-9c17-8a432929b5c5",
   "metadata": {},
   "outputs": [
    {
     "data": {
      "text/html": [
       "<div>\n",
       "<style scoped>\n",
       "    .dataframe tbody tr th:only-of-type {\n",
       "        vertical-align: middle;\n",
       "    }\n",
       "\n",
       "    .dataframe tbody tr th {\n",
       "        vertical-align: top;\n",
       "    }\n",
       "\n",
       "    .dataframe thead th {\n",
       "        text-align: right;\n",
       "    }\n",
       "</style>\n",
       "<table border=\"1\" class=\"dataframe\">\n",
       "  <thead>\n",
       "    <tr style=\"text-align: right;\">\n",
       "      <th></th>\n",
       "      <th>time;glucose;calories;heart_rate;steps;basal_rate;bolus_volume_delivered;carb_input</th>\n",
       "      <th>patient_id</th>\n",
       "    </tr>\n",
       "  </thead>\n",
       "  <tbody>\n",
       "    <tr>\n",
       "      <th>0</th>\n",
       "      <td>2018-06-13T18:40:00;332.0;6.359500050544739;82...</td>\n",
       "      <td>HUPA0001P</td>\n",
       "    </tr>\n",
       "    <tr>\n",
       "      <th>1</th>\n",
       "      <td>2018-06-13T18:45:00;326.0;7.72799998521805;83....</td>\n",
       "      <td>HUPA0001P</td>\n",
       "    </tr>\n",
       "    <tr>\n",
       "      <th>2</th>\n",
       "      <td>2018-06-13T18:50:00;330.0;4.749500036239624;80...</td>\n",
       "      <td>HUPA0001P</td>\n",
       "    </tr>\n",
       "    <tr>\n",
       "      <th>3</th>\n",
       "      <td>2018-06-13T18:55:00;324.0;6.359499931335449;89...</td>\n",
       "      <td>HUPA0001P</td>\n",
       "    </tr>\n",
       "    <tr>\n",
       "      <th>4</th>\n",
       "      <td>2018-06-13T19:00:00;306.0;5.151999890804291;92...</td>\n",
       "      <td>HUPA0001P</td>\n",
       "    </tr>\n",
       "  </tbody>\n",
       "</table>\n",
       "</div>"
      ],
      "text/plain": [
       "  time;glucose;calories;heart_rate;steps;basal_rate;bolus_volume_delivered;carb_input  \\\n",
       "0  2018-06-13T18:40:00;332.0;6.359500050544739;82...                                    \n",
       "1  2018-06-13T18:45:00;326.0;7.72799998521805;83....                                    \n",
       "2  2018-06-13T18:50:00;330.0;4.749500036239624;80...                                    \n",
       "3  2018-06-13T18:55:00;324.0;6.359499931335449;89...                                    \n",
       "4  2018-06-13T19:00:00;306.0;5.151999890804291;92...                                    \n",
       "\n",
       "  patient_id  \n",
       "0  HUPA0001P  \n",
       "1  HUPA0001P  \n",
       "2  HUPA0001P  \n",
       "3  HUPA0001P  \n",
       "4  HUPA0001P  "
      ]
     },
     "execution_count": 3,
     "metadata": {},
     "output_type": "execute_result"
    }
   ],
   "source": [
    "## Combining data from all 25 patient files into 1 data frame.\n",
    "\n",
    "import pandas as pd\n",
    "import glob\n",
    "import os\n",
    "\n",
    "# Path to all CSV files\n",
    "# Test commit\n",
    "path = \"../data/raw/HUPA*.csv\"\n",
    "\n",
    "# List all CSV files\n",
    "files = glob.glob(path)\n",
    "\n",
    "# Read and combine all into one DataFrame\n",
    "df_list = []\n",
    "for f in files:\n",
    "    temp = pd.read_csv(f)\n",
    "    temp['patient_id'] = os.path.basename(f).replace(\".csv\", \"\")  # add patient ID from filename\n",
    "    df_list.append(temp)\n",
    "\n",
    "cgm_data = pd.concat(df_list, ignore_index=True)\n",
    "\n",
    "cgm_data.head()\n"
   ]
  },
  {
   "cell_type": "code",
   "execution_count": 5,
   "id": "397f25b8-e69f-458d-ab69-24bae5464c16",
   "metadata": {},
   "outputs": [
    {
     "ename": "TypeError",
     "evalue": "'Index' object is not callable",
     "output_type": "error",
     "traceback": [
      "\u001b[1;31m---------------------------------------------------------------------------\u001b[0m",
      "\u001b[1;31mTypeError\u001b[0m                                 Traceback (most recent call last)",
      "Cell \u001b[1;32mIn[5], line 1\u001b[0m\n\u001b[1;32m----> 1\u001b[0m cgm_data\u001b[38;5;241m.\u001b[39mcolumns()\n",
      "\u001b[1;31mTypeError\u001b[0m: 'Index' object is not callable"
     ]
    }
   ],
   "source": [
    "cgm_data.columns()"
   ]
  },
  {
   "cell_type": "code",
   "execution_count": null,
   "id": "742fe85c-01c2-4a8a-8a3a-d7f3faf2c509",
   "metadata": {},
   "outputs": [],
   "source": []
  }
 ],
 "metadata": {
  "kernelspec": {
   "display_name": "Python 3 (ipykernel)",
   "language": "python",
   "name": "python3"
  },
  "language_info": {
   "codemirror_mode": {
    "name": "ipython",
    "version": 3
   },
   "file_extension": ".py",
   "mimetype": "text/x-python",
   "name": "python",
   "nbconvert_exporter": "python",
   "pygments_lexer": "ipython3",
   "version": "3.9.12"
  }
 },
 "nbformat": 4,
 "nbformat_minor": 5
}
